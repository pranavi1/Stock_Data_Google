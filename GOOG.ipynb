{
 "cells": [
  {
   "cell_type": "markdown",
   "metadata": {},
   "source": [
    "## Importing required packages "
   ]
  },
  {
   "cell_type": "code",
   "execution_count": 1,
   "metadata": {},
   "outputs": [
    {
     "name": "stderr",
     "output_type": "stream",
     "text": [
      "C:\\Users\\pranavi\\Anaconda3\\lib\\site-packages\\h5py\\__init__.py:36: FutureWarning: Conversion of the second argument of issubdtype from `float` to `np.floating` is deprecated. In future, it will be treated as `np.float64 == np.dtype(float).type`.\n",
      "  from ._conv import register_converters as _register_converters\n",
      "Using TensorFlow backend.\n"
     ]
    }
   ],
   "source": [
    "import missingno, fancyimpute\n",
    "import pandas as pd\n",
    "import numpy as np\n",
    "from sklearn.preprocessing import Imputer\n",
    "import matplotlib.pyplot as plt\n",
    "from sklearn.model_selection import GridSearchCV,cross_val_score,train_test_split"
   ]
  },
  {
   "cell_type": "markdown",
   "metadata": {},
   "source": [
    "### Reading data"
   ]
  },
  {
   "cell_type": "code",
   "execution_count": 2,
   "metadata": {},
   "outputs": [],
   "source": [
    "data=pd.read_csv(\"C:/Users/pranavi/Desktop/StockData/GOOG.csv\")"
   ]
  },
  {
   "cell_type": "markdown",
   "metadata": {},
   "source": [
    "### Data frame"
   ]
  },
  {
   "cell_type": "code",
   "execution_count": 3,
   "metadata": {},
   "outputs": [
    {
     "data": {
      "text/html": [
       "<div>\n",
       "<style scoped>\n",
       "    .dataframe tbody tr th:only-of-type {\n",
       "        vertical-align: middle;\n",
       "    }\n",
       "\n",
       "    .dataframe tbody tr th {\n",
       "        vertical-align: top;\n",
       "    }\n",
       "\n",
       "    .dataframe thead th {\n",
       "        text-align: right;\n",
       "    }\n",
       "</style>\n",
       "<table border=\"1\" class=\"dataframe\">\n",
       "  <thead>\n",
       "    <tr style=\"text-align: right;\">\n",
       "      <th></th>\n",
       "      <th>Date</th>\n",
       "      <th>Open</th>\n",
       "      <th>High</th>\n",
       "      <th>Low</th>\n",
       "      <th>Close</th>\n",
       "      <th>Adj Close</th>\n",
       "      <th>Volume</th>\n",
       "    </tr>\n",
       "  </thead>\n",
       "  <tbody>\n",
       "    <tr>\n",
       "      <th>0</th>\n",
       "      <td>27-02-2018</td>\n",
       "      <td>1141.239990</td>\n",
       "      <td>1144.040039</td>\n",
       "      <td>1118.000000</td>\n",
       "      <td>1118.290039</td>\n",
       "      <td>1118.290039</td>\n",
       "      <td>1774100</td>\n",
       "    </tr>\n",
       "    <tr>\n",
       "      <th>1</th>\n",
       "      <td>28-02-2018</td>\n",
       "      <td>1123.030029</td>\n",
       "      <td>1127.530029</td>\n",
       "      <td>1103.239990</td>\n",
       "      <td>1104.729980</td>\n",
       "      <td>1104.729980</td>\n",
       "      <td>1882600</td>\n",
       "    </tr>\n",
       "    <tr>\n",
       "      <th>2</th>\n",
       "      <td>01-03-2018</td>\n",
       "      <td>1107.869995</td>\n",
       "      <td>1110.119995</td>\n",
       "      <td>1067.000977</td>\n",
       "      <td>1069.520020</td>\n",
       "      <td>1069.520020</td>\n",
       "      <td>2515900</td>\n",
       "    </tr>\n",
       "    <tr>\n",
       "      <th>3</th>\n",
       "      <td>02-03-2018</td>\n",
       "      <td>1053.079956</td>\n",
       "      <td>1081.999023</td>\n",
       "      <td>1048.114990</td>\n",
       "      <td>1078.920044</td>\n",
       "      <td>1078.920044</td>\n",
       "      <td>2271600</td>\n",
       "    </tr>\n",
       "    <tr>\n",
       "      <th>4</th>\n",
       "      <td>05-03-2018</td>\n",
       "      <td>1075.140015</td>\n",
       "      <td>1097.099976</td>\n",
       "      <td>1069.000000</td>\n",
       "      <td>1090.930054</td>\n",
       "      <td>1090.930054</td>\n",
       "      <td>1202200</td>\n",
       "    </tr>\n",
       "  </tbody>\n",
       "</table>\n",
       "</div>"
      ],
      "text/plain": [
       "         Date         Open         High          Low        Close  \\\n",
       "0  27-02-2018  1141.239990  1144.040039  1118.000000  1118.290039   \n",
       "1  28-02-2018  1123.030029  1127.530029  1103.239990  1104.729980   \n",
       "2  01-03-2018  1107.869995  1110.119995  1067.000977  1069.520020   \n",
       "3  02-03-2018  1053.079956  1081.999023  1048.114990  1078.920044   \n",
       "4  05-03-2018  1075.140015  1097.099976  1069.000000  1090.930054   \n",
       "\n",
       "     Adj Close   Volume  \n",
       "0  1118.290039  1774100  \n",
       "1  1104.729980  1882600  \n",
       "2  1069.520020  2515900  \n",
       "3  1078.920044  2271600  \n",
       "4  1090.930054  1202200  "
      ]
     },
     "execution_count": 3,
     "metadata": {},
     "output_type": "execute_result"
    }
   ],
   "source": [
    "data.head()"
   ]
  },
  {
   "cell_type": "markdown",
   "metadata": {},
   "source": [
    "### Shape of Data"
   ]
  },
  {
   "cell_type": "code",
   "execution_count": 4,
   "metadata": {},
   "outputs": [
    {
     "data": {
      "text/plain": [
       "(251, 7)"
      ]
     },
     "execution_count": 4,
     "metadata": {},
     "output_type": "execute_result"
    }
   ],
   "source": [
    "data.shape"
   ]
  },
  {
   "cell_type": "markdown",
   "metadata": {},
   "source": [
    "### Data types "
   ]
  },
  {
   "cell_type": "code",
   "execution_count": 5,
   "metadata": {},
   "outputs": [
    {
     "data": {
      "text/plain": [
       "Date          object\n",
       "Open         float64\n",
       "High         float64\n",
       "Low          float64\n",
       "Close        float64\n",
       "Adj Close    float64\n",
       "Volume         int64\n",
       "dtype: object"
      ]
     },
     "execution_count": 5,
     "metadata": {},
     "output_type": "execute_result"
    }
   ],
   "source": [
    "data.dtypes"
   ]
  },
  {
   "cell_type": "markdown",
   "metadata": {},
   "source": [
    "## Missing valuse Analysis "
   ]
  },
  {
   "cell_type": "markdown",
   "metadata": {},
   "source": [
    "### Count of  missing values in each variable "
   ]
  },
  {
   "cell_type": "code",
   "execution_count": 7,
   "metadata": {},
   "outputs": [
    {
     "data": {
      "text/plain": [
       "Date         0\n",
       "Open         0\n",
       "High         0\n",
       "Low          0\n",
       "Close        0\n",
       "Adj Close    0\n",
       "Volume       0\n",
       "dtype: int64"
      ]
     },
     "execution_count": 7,
     "metadata": {},
     "output_type": "execute_result"
    }
   ],
   "source": [
    "data.isna().sum()"
   ]
  },
  {
   "cell_type": "markdown",
   "metadata": {},
   "source": [
    "### Matrix plot of Missing values "
   ]
  },
  {
   "cell_type": "code",
   "execution_count": 6,
   "metadata": {},
   "outputs": [
    {
     "data": {
      "text/plain": [
       "<matplotlib.axes._subplots.AxesSubplot at 0x1ac33fd5278>"
      ]
     },
     "execution_count": 6,
     "metadata": {},
     "output_type": "execute_result"
    },
    {
     "data": {
      "image/png": "[encoded data removed]",
      "text/plain": [
       "<Figure size 1800x720 with 2 Axes>"
      ]
     },
     "metadata": {},
     "output_type": "display_data"
    }
   ],
   "source": [
    "missingno.matrix(data)"
   ]
  },
  {
   "cell_type": "markdown",
   "metadata": {},
   "source": [
    "### from the count and matrix plot it is clear that there are no missing value "
   ]
  },
  {
   "cell_type": "markdown",
   "metadata": {},
   "source": [
    "## Univariate Analysis"
   ]
  },
  {
   "cell_type": "markdown",
   "metadata": {},
   "source": [
    "### In univariate analysis we plot graphs for each variable and check the spread of data points as the data considered is completely numerical so we go with boxplot to understand the particular variables in the consider dataset  "
   ]
  },
  {
   "cell_type": "code",
   "execution_count": 9,
   "metadata": {},
   "outputs": [
    {
     "data": {
      "text/plain": [
       "{'whiskers': [<matplotlib.lines.Line2D at 0x1ac343429e8>,\n",
       "  <matplotlib.lines.Line2D at 0x1ac34342e80>],\n",
       " 'caps': [<matplotlib.lines.Line2D at 0x1ac3434c2e8>,\n",
       "  <matplotlib.lines.Line2D at 0x1ac3434c710>],\n",
       " 'boxes': [<matplotlib.lines.Line2D at 0x1ac34342898>],\n",
       " 'medians': [<matplotlib.lines.Line2D at 0x1ac3434cb38>],\n",
       " 'fliers': [<matplotlib.lines.Line2D at 0x1ac3434cf60>],\n",
       " 'means': []}"
      ]
     },
     "execution_count": 9,
     "metadata": {},
     "output_type": "execute_result"
    },
    {
     "data": {
      "image/png": "[encoded data removed]",
      "text/plain": [
       "<Figure size 432x288 with 1 Axes>"
      ]
     },
     "metadata": {},
     "output_type": "display_data"
    }
   ],
   "source": [
    "plt.boxplot(data['Open'])"
   ]
  },
  {
   "cell_type": "code",
   "execution_count": 10,
   "metadata": {},
   "outputs": [
    {
     "data": {
      "text/plain": [
       "{'whiskers': [<matplotlib.lines.Line2D at 0x1ac343a6400>,\n",
       "  <matplotlib.lines.Line2D at 0x1ac343a6898>],\n",
       " 'caps': [<matplotlib.lines.Line2D at 0x1ac343a6cc0>,\n",
       "  <matplotlib.lines.Line2D at 0x1ac343ae128>],\n",
       " 'boxes': [<matplotlib.lines.Line2D at 0x1ac343a62b0>],\n",
       " 'medians': [<matplotlib.lines.Line2D at 0x1ac343ae550>],\n",
       " 'fliers': [<matplotlib.lines.Line2D at 0x1ac343ae978>],\n",
       " 'means': []}"
      ]
     },
     "execution_count": 10,
     "metadata": {},
     "output_type": "execute_result"
    },
    {
     "data": {
      "image/png": "[encoded data removed]",
      "text/plain": [
       "<Figure size 432x288 with 1 Axes>"
      ]
     },
     "metadata": {},
     "output_type": "display_data"
    }
   ],
   "source": [
    "plt.boxplot(data['High'])"
   ]
  },
  {
   "cell_type": "markdown",
   "metadata": {},
   "source": [
    "### There are no outliers and the first quartile has more dense of data points compared to the fourth and third quartiels "
   ]
  },
  {
   "cell_type": "code",
   "execution_count": 12,
   "metadata": {},
   "outputs": [
    {
     "data": {
      "text/plain": [
       "{'whiskers': [<matplotlib.lines.Line2D at 0x1ac344570b8>,\n",
       "  <matplotlib.lines.Line2D at 0x1ac34457550>],\n",
       " 'caps': [<matplotlib.lines.Line2D at 0x1ac34457978>,\n",
       "  <matplotlib.lines.Line2D at 0x1ac34457da0>],\n",
       " 'boxes': [<matplotlib.lines.Line2D at 0x1ac34450f28>],\n",
       " 'medians': [<matplotlib.lines.Line2D at 0x1ac34464208>],\n",
       " 'fliers': [<matplotlib.lines.Line2D at 0x1ac34464630>],\n",
       " 'means': []}"
      ]
     },
     "execution_count": 12,
     "metadata": {},
     "output_type": "execute_result"
    },
    {
     "data": {
      "image/png": "[encoded data removed]",
      "text/plain": [
       "<Figure size 432x288 with 1 Axes>"
      ]
     },
     "metadata": {},
     "output_type": "display_data"
    }
   ],
   "source": [
    "plt.boxplot(data['Low'])"
   ]
  },
  {
   "cell_type": "markdown",
   "metadata": {},
   "source": [
    "### There are no outliers and the first quartile has more dense of data points compared to the fourth and third quartiels "
   ]
  },
  {
   "cell_type": "code",
   "execution_count": 13,
   "metadata": {},
   "outputs": [
    {
     "data": {
      "text/plain": [
       "{'whiskers': [<matplotlib.lines.Line2D at 0x1ac344b05c0>,\n",
       "  <matplotlib.lines.Line2D at 0x1ac344b0a58>],\n",
       " 'caps': [<matplotlib.lines.Line2D at 0x1ac344b0e80>,\n",
       "  <matplotlib.lines.Line2D at 0x1ac344b72e8>],\n",
       " 'boxes': [<matplotlib.lines.Line2D at 0x1ac344b0470>],\n",
       " 'medians': [<matplotlib.lines.Line2D at 0x1ac344b7710>],\n",
       " 'fliers': [<matplotlib.lines.Line2D at 0x1ac344b7b38>],\n",
       " 'means': []}"
      ]
     },
     "execution_count": 13,
     "metadata": {},
     "output_type": "execute_result"
    },
    {
     "data": {
      "image/png": "[encoded data removed]",
      "text/plain": [
       "<Figure size 432x288 with 1 Axes>"
      ]
     },
     "metadata": {},
     "output_type": "display_data"
    }
   ],
   "source": [
    "plt.boxplot(data['Close'])"
   ]
  },
  {
   "cell_type": "markdown",
   "metadata": {},
   "source": [
    "### There are no outliers and the first quartile has more dense of data points compared to the fourth and third quartiels "
   ]
  },
  {
   "cell_type": "code",
   "execution_count": 14,
   "metadata": {},
   "outputs": [
    {
     "data": {
      "text/plain": [
       "{'whiskers': [<matplotlib.lines.Line2D at 0x1ac34507940>,\n",
       "  <matplotlib.lines.Line2D at 0x1ac34507dd8>],\n",
       " 'caps': [<matplotlib.lines.Line2D at 0x1ac34510240>,\n",
       "  <matplotlib.lines.Line2D at 0x1ac34510668>],\n",
       " 'boxes': [<matplotlib.lines.Line2D at 0x1ac345077f0>],\n",
       " 'medians': [<matplotlib.lines.Line2D at 0x1ac34510a90>],\n",
       " 'fliers': [<matplotlib.lines.Line2D at 0x1ac34510eb8>],\n",
       " 'means': []}"
      ]
     },
     "execution_count": 14,
     "metadata": {},
     "output_type": "execute_result"
    },
    {
     "data": {
      "image/png": "[encoded data removed]",
      "text/plain": [
       "<Figure size 432x288 with 1 Axes>"
      ]
     },
     "metadata": {},
     "output_type": "display_data"
    }
   ],
   "source": [
    "plt.boxplot(data['Adj Close'])"
   ]
  },
  {
   "cell_type": "markdown",
   "metadata": {},
   "source": [
    "### There are no outliers and the first quartile has more dense of data points compared to the fourth and third quartiels "
   ]
  },
  {
   "cell_type": "code",
   "execution_count": 16,
   "metadata": {},
   "outputs": [
    {
     "data": {
      "text/plain": [
       "{'whiskers': [<matplotlib.lines.Line2D at 0x1ac35d9ff98>,\n",
       "  <matplotlib.lines.Line2D at 0x1ac35da6470>],\n",
       " 'caps': [<matplotlib.lines.Line2D at 0x1ac35da6898>,\n",
       "  <matplotlib.lines.Line2D at 0x1ac35da6cc0>],\n",
       " 'boxes': [<matplotlib.lines.Line2D at 0x1ac35d9fe48>],\n",
       " 'medians': [<matplotlib.lines.Line2D at 0x1ac35dae128>],\n",
       " 'fliers': [<matplotlib.lines.Line2D at 0x1ac35dae550>],\n",
       " 'means': []}"
      ]
     },
     "execution_count": 16,
     "metadata": {},
     "output_type": "execute_result"
    },
    {
     "data": {
      "image/png": "[encoded data removed]",
      "text/plain": [
       "<Figure size 432x288 with 1 Axes>"
      ]
     },
     "metadata": {},
     "output_type": "display_data"
    }
   ],
   "source": [
    "plt.boxplot(data['Volume'])"
   ]
  },
  {
   "cell_type": "markdown",
   "metadata": {},
   "source": [
    "### First, second and third quartiles have data points very close to each and the data points in fourh quartiles has a little scattered points. There are few outliers with higher values."
   ]
  },
  {
   "cell_type": "markdown",
   "metadata": {},
   "source": [
    "### As the taken dataset is continous data all the variables are dependent on each other, giving similar kind of results "
   ]
  },
  {
   "cell_type": "markdown",
   "metadata": {},
   "source": [
    "### Adding an extra column to analyse the data"
   ]
  },
  {
   "cell_type": "code",
   "execution_count": 18,
   "metadata": {},
   "outputs": [],
   "source": [
    "data['Open/Close']=data['Open']-data['Close']"
   ]
  },
  {
   "cell_type": "code",
   "execution_count": 21,
   "metadata": {},
   "outputs": [
    {
     "data": {
      "text/plain": [
       "0      22.949951\n",
       "1      18.300049\n",
       "2      38.349975\n",
       "3     -25.840088\n",
       "4     -15.790039\n",
       "5       4.159912\n",
       "6     -20.450074\n",
       "7     -10.680054\n",
       "8     -24.040039\n",
       "9      -0.650024\n",
       "10     31.829956\n",
       "11     -4.280029\n",
       "12      0.380005\n",
       "13     18.410035\n",
       "14     20.190064\n",
       "15      1.290039\n",
       "16      1.859985\n",
       "17     32.800049\n",
       "18     25.460022\n",
       "19     -7.209961\n",
       "20     57.900024\n",
       "21     -6.559998\n",
       "22    -20.160034\n",
       "23     16.350036\n",
       "24      0.500000\n",
       "25    -31.730042\n",
       "26     13.519897\n",
       "27     12.960022\n",
       "28      1.349976\n",
       "29     -5.200074\n",
       "         ...    \n",
       "221     2.230103\n",
       "222   -26.979980\n",
       "223    -0.969971\n",
       "224   -10.430053\n",
       "225     1.739990\n",
       "226    17.479980\n",
       "227     1.780030\n",
       "228     2.579956\n",
       "229    -5.989990\n",
       "230    10.030029\n",
       "231    12.060059\n",
       "232   -20.630005\n",
       "233   -13.369995\n",
       "234     1.650024\n",
       "235   -20.140015\n",
       "236   -21.150024\n",
       "237    24.339966\n",
       "238     5.450073\n",
       "239    -8.060059\n",
       "240     1.939941\n",
       "241   -14.569946\n",
       "242     4.829956\n",
       "243    -3.619995\n",
       "244    16.429932\n",
       "245    -8.560059\n",
       "246     6.189941\n",
       "247    13.869995\n",
       "248    -9.469971\n",
       "249     6.599976\n",
       "250    -9.380005\n",
       "Name: Open/Close, Length: 251, dtype: float64"
      ]
     },
     "execution_count": 21,
     "metadata": {},
     "output_type": "execute_result"
    }
   ],
   "source": [
    "data['Open/Close']"
   ]
  },
  {
   "cell_type": "markdown",
   "metadata": {},
   "source": [
    "### This gives the difference between open and close using which we can exclude alll other variables "
   ]
  },
  {
   "cell_type": "code",
   "execution_count": 22,
   "metadata": {},
   "outputs": [
    {
     "data": {
      "text/html": [
       "<div>\n",
       "<style scoped>\n",
       "    .dataframe tbody tr th:only-of-type {\n",
       "        vertical-align: middle;\n",
       "    }\n",
       "\n",
       "    .dataframe tbody tr th {\n",
       "        vertical-align: top;\n",
       "    }\n",
       "\n",
       "    .dataframe thead th {\n",
       "        text-align: right;\n",
       "    }\n",
       "</style>\n",
       "<table border=\"1\" class=\"dataframe\">\n",
       "  <thead>\n",
       "    <tr style=\"text-align: right;\">\n",
       "      <th></th>\n",
       "      <th>Date</th>\n",
       "      <th>Open</th>\n",
       "      <th>High</th>\n",
       "      <th>Low</th>\n",
       "      <th>Close</th>\n",
       "      <th>Adj Close</th>\n",
       "      <th>Volume</th>\n",
       "      <th>Open/Close</th>\n",
       "    </tr>\n",
       "  </thead>\n",
       "  <tbody>\n",
       "    <tr>\n",
       "      <th>0</th>\n",
       "      <td>27-02-2018</td>\n",
       "      <td>1141.239990</td>\n",
       "      <td>1144.040039</td>\n",
       "      <td>1118.000000</td>\n",
       "      <td>1118.290039</td>\n",
       "      <td>1118.290039</td>\n",
       "      <td>1774100</td>\n",
       "      <td>22.949951</td>\n",
       "    </tr>\n",
       "    <tr>\n",
       "      <th>1</th>\n",
       "      <td>28-02-2018</td>\n",
       "      <td>1123.030029</td>\n",
       "      <td>1127.530029</td>\n",
       "      <td>1103.239990</td>\n",
       "      <td>1104.729980</td>\n",
       "      <td>1104.729980</td>\n",
       "      <td>1882600</td>\n",
       "      <td>18.300049</td>\n",
       "    </tr>\n",
       "    <tr>\n",
       "      <th>2</th>\n",
       "      <td>01-03-2018</td>\n",
       "      <td>1107.869995</td>\n",
       "      <td>1110.119995</td>\n",
       "      <td>1067.000977</td>\n",
       "      <td>1069.520020</td>\n",
       "      <td>1069.520020</td>\n",
       "      <td>2515900</td>\n",
       "      <td>38.349975</td>\n",
       "    </tr>\n",
       "    <tr>\n",
       "      <th>3</th>\n",
       "      <td>02-03-2018</td>\n",
       "      <td>1053.079956</td>\n",
       "      <td>1081.999023</td>\n",
       "      <td>1048.114990</td>\n",
       "      <td>1078.920044</td>\n",
       "      <td>1078.920044</td>\n",
       "      <td>2271600</td>\n",
       "      <td>-25.840088</td>\n",
       "    </tr>\n",
       "    <tr>\n",
       "      <th>4</th>\n",
       "      <td>05-03-2018</td>\n",
       "      <td>1075.140015</td>\n",
       "      <td>1097.099976</td>\n",
       "      <td>1069.000000</td>\n",
       "      <td>1090.930054</td>\n",
       "      <td>1090.930054</td>\n",
       "      <td>1202200</td>\n",
       "      <td>-15.790039</td>\n",
       "    </tr>\n",
       "  </tbody>\n",
       "</table>\n",
       "</div>"
      ],
      "text/plain": [
       "         Date         Open         High          Low        Close  \\\n",
       "0  27-02-2018  1141.239990  1144.040039  1118.000000  1118.290039   \n",
       "1  28-02-2018  1123.030029  1127.530029  1103.239990  1104.729980   \n",
       "2  01-03-2018  1107.869995  1110.119995  1067.000977  1069.520020   \n",
       "3  02-03-2018  1053.079956  1081.999023  1048.114990  1078.920044   \n",
       "4  05-03-2018  1075.140015  1097.099976  1069.000000  1090.930054   \n",
       "\n",
       "     Adj Close   Volume  Open/Close  \n",
       "0  1118.290039  1774100   22.949951  \n",
       "1  1104.729980  1882600   18.300049  \n",
       "2  1069.520020  2515900   38.349975  \n",
       "3  1078.920044  2271600  -25.840088  \n",
       "4  1090.930054  1202200  -15.790039  "
      ]
     },
     "execution_count": 22,
     "metadata": {},
     "output_type": "execute_result"
    }
   ],
   "source": [
    "data.head()"
   ]
  },
  {
   "cell_type": "markdown",
   "metadata": {},
   "source": [
    "## Bivariate Analysis"
   ]
  },
  {
   "cell_type": "markdown",
   "metadata": {},
   "source": [
    "### As the data is continouse type , we compare the only independent variabel Volume with the rest of the variables "
   ]
  },
  {
   "cell_type": "code",
   "execution_count": 24,
   "metadata": {},
   "outputs": [
    {
     "data": {
      "text/plain": [
       "<matplotlib.collections.PathCollection at 0x1ac35e67048>"
      ]
     },
     "execution_count": 24,
     "metadata": {},
     "output_type": "execute_result"
    },
    {
     "data": {
      "image/png": "[encoded data removed]",
      "text/plain": [
       "<Figure size 432x288 with 1 Axes>"
      ]
     },
     "metadata": {},
     "output_type": "display_data"
    }
   ],
   "source": [
    "plt.scatter(data['Volume'],data['Open/Close'])"
   ]
  },
  {
   "cell_type": "markdown",
   "metadata": {},
   "source": [
    "### The scatter plot is plotted between Volume and Open/Close (which cover all other dependent variables) from the plot we can see that there is very less linear relation.| "
   ]
  },
  {
   "cell_type": "code",
   "execution_count": 25,
   "metadata": {},
   "outputs": [
    {
     "data": {
      "text/plain": [
       "<matplotlib.collections.PathCollection at 0x1ac35ee20b8>"
      ]
     },
     "execution_count": 25,
     "metadata": {},
     "output_type": "execute_result"
    },
    {
     "data": {
      "image/png": "[encoded data removed]",
      "text/plain": [
       "<Figure size 432x288 with 1 Axes>"
      ]
     },
     "metadata": {},
     "output_type": "display_data"
    }
   ],
   "source": [
    "plt.scatter(data['Volume'],data['High'])"
   ]
  },
  {
   "cell_type": "code",
   "execution_count": 29,
   "metadata": {},
   "outputs": [
    {
     "data": {
      "text/plain": [
       "<matplotlib.collections.PathCollection at 0x1ac36001940>"
      ]
     },
     "execution_count": 29,
     "metadata": {},
     "output_type": "execute_result"
    },
    {
     "data": {
      "image/png": "[encoded data removed]",
      "text/plain": [
       "<Figure size 432x288 with 1 Axes>"
      ]
     },
     "metadata": {},
     "output_type": "display_data"
    }
   ],
   "source": [
    "plt.scatter(data['Volume'],data['Adj Close'])"
   ]
  },
  {
   "cell_type": "markdown",
   "metadata": {},
   "source": [
    "## Correlation "
   ]
  },
  {
   "cell_type": "code",
   "execution_count": 31,
   "metadata": {},
   "outputs": [
    {
     "data": {
      "image/png": "[encoded data removed]",
      "text/plain": [
       "<Figure size 864x648 with 2 Axes>"
      ]
     },
     "metadata": {},
     "output_type": "display_data"
    }
   ],
   "source": [
    "import seaborn as sns\n",
    "corrmat=data.corr()\n",
    "f, ax=plt.subplots(figsize=(12, 9))\n",
    "sns.heatmap(corrmat);"
   ]
  },
  {
   "cell_type": "markdown",
   "metadata": {},
   "source": [
    "### The correlation matrix gives the relationship between the all the variables and we can see all the variables except Volume are strongly correlated with each other as it is a continouse and dependent variables"
   ]
  },
  {
   "cell_type": "markdown",
   "metadata": {},
   "source": [
    "## Features selection"
   ]
  },
  {
   "cell_type": "markdown",
   "metadata": {},
   "source": [
    "### The dataset considered is Time series analysis dataset when we are building a model for time series all the variables are nedded to be considered as each variable contributes equal lecel of importance in the process of building the model"
   ]
  }
 ],
 "metadata": {
  "kernelspec": {
   "display_name": "Python 3",
   "language": "python",
   "name": "python3"
  },
  "language_info": {
   "codemirror_mode": {
    "name": "ipython",
    "version": 3
   },
   "file_extension": ".py",
   "mimetype": "text/x-python",
   "name": "python",
   "nbconvert_exporter": "python",
   "pygments_lexer": "ipython3",
   "version": "3.6.5"
  }
 },
 "nbformat": 4,
 "nbformat_minor": 2
}
